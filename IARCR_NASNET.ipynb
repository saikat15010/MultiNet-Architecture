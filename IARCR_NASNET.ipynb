{
  "nbformat": 4,
  "nbformat_minor": 0,
  "metadata": {
    "colab": {
      "name": "IARCR_NASNET",
      "provenance": []
    },
    "kernelspec": {
      "name": "python3",
      "display_name": "Python 3"
    },
    "accelerator": "GPU"
  },
  "cells": [
    {
      "cell_type": "code",
      "metadata": {
        "id": "q5o9aCt6b0og",
        "outputId": "d7043662-096a-40e9-9dda-11ed58fd1d80",
        "colab": {
          "base_uri": "https://localhost:8080/"
        }
      },
      "source": [
        "from google.colab import drive\n",
        "drive.mount('/gdrive') "
      ],
      "execution_count": 1,
      "outputs": [
        {
          "output_type": "stream",
          "text": [
            "Mounted at /gdrive\n"
          ],
          "name": "stdout"
        }
      ]
    },
    {
      "cell_type": "code",
      "metadata": {
        "id": "7uDmBNY0b8E1",
        "outputId": "87959b37-9530-425b-bb21-d778dcadaeeb",
        "colab": {
          "base_uri": "https://localhost:8080/",
          "height": 35
        }
      },
      "source": [
        "import tensorflow as tf\n",
        "tf.test.gpu_device_name()"
      ],
      "execution_count": 2,
      "outputs": [
        {
          "output_type": "execute_result",
          "data": {
            "application/vnd.google.colaboratory.intrinsic+json": {
              "type": "string"
            },
            "text/plain": [
              "'/device:GPU:0'"
            ]
          },
          "metadata": {
            "tags": []
          },
          "execution_count": 2
        }
      ]
    },
    {
      "cell_type": "code",
      "metadata": {
        "id": "Qd5lFH5Lb8Hc"
      },
      "source": [
        "import json\n",
        "import math\n",
        "import os\n",
        "\n",
        "import cv2\n",
        "from PIL import Image\n",
        "import numpy as np\n",
        "from keras import layers\n",
        "from tensorflow.keras.applications.vgg19 import VGG19\n",
        "from tensorflow.keras.applications.vgg16 import VGG16\n",
        "from keras.layers import Dropout, Flatten, Dense, GlobalAveragePooling2D, Average, Input, Concatenate, GlobalMaxPooling2D,BatchNormalization\n",
        "from keras.applications import ResNet50,MobileNet, DenseNet201, InceptionV3, NASNetLarge, InceptionResNetV2, NASNetMobile\n",
        "from keras.applications.xception import Xception\n",
        "from keras.callbacks import Callback, ModelCheckpoint, ReduceLROnPlateau, TensorBoard\n",
        "from keras.preprocessing.image import ImageDataGenerator\n",
        "from keras.utils.np_utils import to_categorical\n",
        "from keras.models import Sequential\n",
        "from keras.optimizers import Adam\n",
        "from keras.models import Model\n",
        "import matplotlib.pyplot as plt\n",
        "import pandas as pd\n",
        "from sklearn.model_selection import train_test_split\n",
        "from sklearn.metrics import cohen_kappa_score, accuracy_score\n",
        "import scipy\n",
        "from tqdm import tqdm\n",
        "import tensorflow as tf\n",
        "from keras import backend as K\n",
        "import gc\n",
        "from functools import partial\n",
        "from sklearn import metrics\n",
        "from collections import Counter\n",
        "import json\n",
        "import itertools\n",
        "\n",
        "\n",
        "%matplotlib inline"
      ],
      "execution_count": 6,
      "outputs": []
    },
    {
      "cell_type": "code",
      "metadata": {
        "id": "ElXaXTOzb8KP"
      },
      "source": [
        "#Transfer 'jpg' images to an array IMG\n",
        "def Dataset_loader(DIR, RESIZE, sigmaX=10):\n",
        "    IMG = []\n",
        "    read = lambda imname: np.asarray(Image.open(imname).convert(\"RGB\"))\n",
        "    for IMAGE_NAME in tqdm(os.listdir(DIR)):\n",
        "        PATH = os.path.join(DIR,IMAGE_NAME)\n",
        "        _, ftype = os.path.splitext(PATH)\n",
        "        if ftype == \".png\":\n",
        "            img = read(PATH)\n",
        "           \n",
        "            img = cv2.resize(img, (RESIZE,RESIZE))\n",
        "           \n",
        "            IMG.append(np.array(img))\n",
        "    return IMG"
      ],
      "execution_count": 7,
      "outputs": []
    },
    {
      "cell_type": "code",
      "metadata": {
        "id": "-qMkDYO6b8M2",
        "outputId": "48171c88-69e1-45b7-eb33-5ec818a6efbd",
        "colab": {
          "base_uri": "https://localhost:8080/"
        }
      },
      "source": [
        "benign_train   =   np.array(Dataset_loader('/content/drive/My Drive/ICIAR2018-2/train/Benign',224))\n",
        "insitu_train   =   np.array(Dataset_loader('/content/drive/My Drive/ICIAR2018-2/train/InSitu',224))\n",
        "invasive_train =   np.array(Dataset_loader('/content/drive/My Drive/ICIAR2018-2/train/Invasive',224))\n",
        "normal_train   =   np.array(Dataset_loader('/content/drive/My Drive/ICIAR2018-2/train/Normal',224))\n",
        "\n",
        "benign_test    =   np.array(Dataset_loader('/content/drive/My Drive/ICIAR2018-2/test/Benign',224))\n",
        "insitu_test    =   np.array(Dataset_loader('/content/drive/My Drive/ICIAR2018-2/test/InSitu',224))\n",
        "invasive_test  =   np.array(Dataset_loader('/content/drive/My Drive/ICIAR2018-2/test/Invasive',224))\n",
        "normal_test    =   np.array(Dataset_loader('/content/drive/My Drive/ICIAR2018-2/test/Normal',224))"
      ],
      "execution_count": 8,
      "outputs": [
        {
          "output_type": "stream",
          "text": [
            "100%|██████████| 90/90 [00:59<00:00,  1.51it/s]\n",
            "100%|██████████| 90/90 [00:42<00:00,  2.13it/s]\n",
            "100%|██████████| 90/90 [00:35<00:00,  2.51it/s]\n",
            "100%|██████████| 90/90 [00:40<00:00,  2.21it/s]\n",
            "100%|██████████| 10/10 [00:05<00:00,  1.95it/s]\n",
            "100%|██████████| 10/10 [00:05<00:00,  1.91it/s]\n",
            "100%|██████████| 10/10 [00:06<00:00,  1.57it/s]\n",
            "100%|██████████| 10/10 [00:04<00:00,  2.14it/s]\n"
          ],
          "name": "stderr"
        }
      ]
    },
    {
      "cell_type": "code",
      "metadata": {
        "id": "1V-Kemv_b8QI"
      },
      "source": [
        "# Create labels\n",
        "benign_train_label   = np.full(len(benign_train),0)\n",
        "insitu_train_label   = np.full(len(insitu_train),1)\n",
        "invasive_train_label = np.full(len(invasive_train),2)\n",
        "normal_train_label   = np.full(len(normal_train),3)\n",
        "\n",
        "benign_test_label   = np.full(len(benign_test),0)\n",
        "insitu_test_label   = np.full(len(insitu_test),1)\n",
        "invasive_test_label = np.full(len(invasive_test),2)\n",
        "normal_test_label   = np.full(len(normal_test),3)"
      ],
      "execution_count": 9,
      "outputs": []
    },
    {
      "cell_type": "code",
      "metadata": {
        "id": "2QL5vyzlb8Sk"
      },
      "source": [
        "# Merge data \n",
        "X_train = np.concatenate((benign_train, insitu_train, invasive_train, normal_train), axis = 0)\n",
        "Y_train = np.concatenate((benign_train_label, insitu_train_label, invasive_train_label, normal_train_label), axis = 0)\n",
        "X_test = np.concatenate((benign_test, insitu_test, invasive_test, normal_test), axis = 0)\n",
        "Y_test = np.concatenate((benign_test_label, insitu_test_label, invasive_test_label, normal_test_label), axis = 0)\n"
      ],
      "execution_count": 10,
      "outputs": []
    },
    {
      "cell_type": "code",
      "metadata": {
        "id": "CD9VQLIHb8Vn"
      },
      "source": [
        "# Shuffle train data\n",
        "s = np.arange(X_train.shape[0])\n",
        "np.random.shuffle(s)\n",
        "X_train = X_train[s]\n",
        "Y_train = Y_train[s]\n",
        "\n",
        "# Shuffle test data\n",
        "s = np.arange(X_test.shape[0])\n",
        "np.random.shuffle(s)\n",
        "X_test = X_test[s]\n",
        "Y_test = Y_test[s]\n"
      ],
      "execution_count": 11,
      "outputs": []
    },
    {
      "cell_type": "code",
      "metadata": {
        "id": "I1geIrNkb8Yn"
      },
      "source": [
        "# To categorical\n",
        "Y_train = to_categorical(Y_train, num_classes= 4)\n",
        "Y_test = to_categorical(Y_test, num_classes= 4)"
      ],
      "execution_count": 12,
      "outputs": []
    },
    {
      "cell_type": "code",
      "metadata": {
        "id": "GvrMKwmqb8bq"
      },
      "source": [
        "x_train, x_val, y_train, y_val = train_test_split(\n",
        "    X_train, Y_train, \n",
        "    test_size=0.2, \n",
        "    random_state=11\n",
        ")"
      ],
      "execution_count": 13,
      "outputs": []
    },
    {
      "cell_type": "code",
      "metadata": {
        "id": "LbbIHr3Ib8eQ"
      },
      "source": [
        "BATCH_SIZE = 32\n",
        "\n",
        "# Using original generator\n",
        "train_generator = ImageDataGenerator(\n",
        "        zoom_range=2,  # set range for random zoom\n",
        "        rotation_range = 90,\n",
        "        shear_range = 0.5,\n",
        "        width_shift_range=0.4,\n",
        "        height_shift_range=0.4,\n",
        "        horizontal_flip=True,  # randomly flip images\n",
        "        vertical_flip=True  # randomly flip images\n",
        "    )"
      ],
      "execution_count": 14,
      "outputs": []
    },
    {
      "cell_type": "code",
      "metadata": {
        "id": "CtgnPSR5cogn",
        "outputId": "297c601f-6869-4503-ec5d-c2af761d3091",
        "colab": {
          "base_uri": "https://localhost:8080/"
        }
      },
      "source": [
        "IMAGE_SIZE=224\n",
        "# Model\n",
        "input_shape = (IMAGE_SIZE, IMAGE_SIZE, 3)\n",
        "inputs = Input(input_shape)\n",
        " \n",
        "#dennet   = DenseNet201(include_top=False, input_shape=input_shape)(inputs)\n",
        "nas      = NASNetMobile(include_top=False, input_shape=input_shape)(inputs)\n",
        "#vgg      = VGG16(include_top=False, input_shape=input_shape)(inputs)"
      ],
      "execution_count": 15,
      "outputs": [
        {
          "output_type": "stream",
          "text": [
            "Downloading data from https://storage.googleapis.com/tensorflow/keras-applications/nasnet/NASNet-mobile-no-top.h5\n",
            "19996672/19993432 [==============================] - 0s 0us/step\n"
          ],
          "name": "stdout"
        }
      ]
    },
    {
      "cell_type": "code",
      "metadata": {
        "id": "mwOZjvFucoje",
        "outputId": "3179b8ca-fb5a-42cb-8b7a-5ca82ba95927",
        "colab": {
          "base_uri": "https://localhost:8080/"
        }
      },
      "source": [
        "outputs = GlobalAveragePooling2D()(nas)\n",
        "outputs = Dropout(0.4)(outputs)\n",
        "outputs = BatchNormalization()(outputs) \n",
        "outputs = Dense(128,activation='relu')(outputs) \n",
        "outputs = Dropout(0.2)(outputs)\n",
        "outputs = BatchNormalization()(outputs) \n",
        "outputs = Dense(4, activation='softmax')(outputs)\n",
        "\n",
        "model = Model(inputs, outputs)\n",
        "model.compile(optimizer=Adam(lr=0.0001, decay=0.00001),\n",
        "              loss='categorical_crossentropy',\n",
        "              metrics=['accuracy'])\n",
        "model.summary()"
      ],
      "execution_count": 16,
      "outputs": [
        {
          "output_type": "stream",
          "text": [
            "Model: \"functional_1\"\n",
            "_________________________________________________________________\n",
            "Layer (type)                 Output Shape              Param #   \n",
            "=================================================================\n",
            "input_1 (InputLayer)         [(None, 224, 224, 3)]     0         \n",
            "_________________________________________________________________\n",
            "NASNet (Functional)          (None, 7, 7, 1056)        4269716   \n",
            "_________________________________________________________________\n",
            "global_average_pooling2d (Gl (None, 1056)              0         \n",
            "_________________________________________________________________\n",
            "dropout (Dropout)            (None, 1056)              0         \n",
            "_________________________________________________________________\n",
            "batch_normalization (BatchNo (None, 1056)              4224      \n",
            "_________________________________________________________________\n",
            "dense (Dense)                (None, 128)               135296    \n",
            "_________________________________________________________________\n",
            "dropout_1 (Dropout)          (None, 128)               0         \n",
            "_________________________________________________________________\n",
            "batch_normalization_1 (Batch (None, 128)               512       \n",
            "_________________________________________________________________\n",
            "dense_1 (Dense)              (None, 4)                 516       \n",
            "=================================================================\n",
            "Total params: 4,410,264\n",
            "Trainable params: 4,371,158\n",
            "Non-trainable params: 39,106\n",
            "_________________________________________________________________\n"
          ],
          "name": "stdout"
        }
      ]
    },
    {
      "cell_type": "code",
      "metadata": {
        "id": "K5juNEfHcomP"
      },
      "source": [
        "# Learning Rate Reducer\n",
        "learn_control = ReduceLROnPlateau(monitor='val_acc', patience=5,\n",
        "                                  verbose=1,factor=0.2, min_lr=1e-7)\n",
        "\n",
        "# Checkpoint\n",
        "filepath=\"/content/drive/My Drive/best_IARCR1_nasnet.hdf5\"\n",
        "checkpoint = ModelCheckpoint(filepath, monitor='val_acc', verbose=1, save_best_only=True, mode='max')"
      ],
      "execution_count": 17,
      "outputs": []
    },
    {
      "cell_type": "code",
      "metadata": {
        "id": "4VFkA4qucoqW",
        "outputId": "a4f8a254-0972-4ead-afb1-9100ceb584aa",
        "colab": {
          "base_uri": "https://localhost:8080/"
        }
      },
      "source": [
        "history = model.fit_generator(\n",
        "    train_generator.flow(x_train, y_train, batch_size=BATCH_SIZE),\n",
        "    steps_per_epoch=x_train.shape[0] / BATCH_SIZE,\n",
        "    epochs=10,\n",
        "    validation_data=(x_val, y_val),\n",
        "    callbacks=[learn_control, checkpoint]\n",
        ")"
      ],
      "execution_count": 49,
      "outputs": [
        {
          "output_type": "stream",
          "text": [
            "Epoch 1/10\n",
            "9/9 [==============================] - ETA: 0s - loss: 0.0559 - accuracy: 0.9722WARNING:tensorflow:Reduce LR on plateau conditioned on metric `val_acc` which is not available. Available metrics are: loss,accuracy,val_loss,val_accuracy,lr\n",
            "WARNING:tensorflow:Can save best model only with val_acc available, skipping.\n",
            "9/9 [==============================] - 4s 439ms/step - loss: 0.0559 - accuracy: 0.9722 - val_loss: 2.0763 - val_accuracy: 0.6528\n",
            "Epoch 2/10\n",
            "9/9 [==============================] - ETA: 0s - loss: 0.1307 - accuracy: 0.9410WARNING:tensorflow:Reduce LR on plateau conditioned on metric `val_acc` which is not available. Available metrics are: loss,accuracy,val_loss,val_accuracy,lr\n",
            "WARNING:tensorflow:Can save best model only with val_acc available, skipping.\n",
            "9/9 [==============================] - 4s 452ms/step - loss: 0.1307 - accuracy: 0.9410 - val_loss: 1.9341 - val_accuracy: 0.6667\n",
            "Epoch 3/10\n",
            "9/9 [==============================] - ETA: 0s - loss: 0.1442 - accuracy: 0.9618WARNING:tensorflow:Reduce LR on plateau conditioned on metric `val_acc` which is not available. Available metrics are: loss,accuracy,val_loss,val_accuracy,lr\n",
            "WARNING:tensorflow:Can save best model only with val_acc available, skipping.\n",
            "9/9 [==============================] - 4s 449ms/step - loss: 0.1442 - accuracy: 0.9618 - val_loss: 1.8391 - val_accuracy: 0.6667\n",
            "Epoch 4/10\n",
            "9/9 [==============================] - ETA: 0s - loss: 0.0984 - accuracy: 0.9722WARNING:tensorflow:Reduce LR on plateau conditioned on metric `val_acc` which is not available. Available metrics are: loss,accuracy,val_loss,val_accuracy,lr\n",
            "WARNING:tensorflow:Can save best model only with val_acc available, skipping.\n",
            "9/9 [==============================] - 4s 457ms/step - loss: 0.0984 - accuracy: 0.9722 - val_loss: 1.8274 - val_accuracy: 0.6667\n",
            "Epoch 5/10\n",
            "9/9 [==============================] - ETA: 0s - loss: 0.0744 - accuracy: 0.9722WARNING:tensorflow:Reduce LR on plateau conditioned on metric `val_acc` which is not available. Available metrics are: loss,accuracy,val_loss,val_accuracy,lr\n",
            "WARNING:tensorflow:Can save best model only with val_acc available, skipping.\n",
            "9/9 [==============================] - 4s 445ms/step - loss: 0.0744 - accuracy: 0.9722 - val_loss: 1.8420 - val_accuracy: 0.6250\n",
            "Epoch 6/10\n",
            "9/9 [==============================] - ETA: 0s - loss: 0.0708 - accuracy: 0.9722WARNING:tensorflow:Reduce LR on plateau conditioned on metric `val_acc` which is not available. Available metrics are: loss,accuracy,val_loss,val_accuracy,lr\n",
            "WARNING:tensorflow:Can save best model only with val_acc available, skipping.\n",
            "9/9 [==============================] - 4s 436ms/step - loss: 0.0708 - accuracy: 0.9722 - val_loss: 1.7743 - val_accuracy: 0.6528\n",
            "Epoch 7/10\n",
            "9/9 [==============================] - ETA: 0s - loss: 0.1145 - accuracy: 0.9479WARNING:tensorflow:Reduce LR on plateau conditioned on metric `val_acc` which is not available. Available metrics are: loss,accuracy,val_loss,val_accuracy,lr\n",
            "WARNING:tensorflow:Can save best model only with val_acc available, skipping.\n",
            "9/9 [==============================] - 4s 442ms/step - loss: 0.1145 - accuracy: 0.9479 - val_loss: 1.8116 - val_accuracy: 0.6528\n",
            "Epoch 8/10\n",
            "9/9 [==============================] - ETA: 0s - loss: 0.1827 - accuracy: 0.9132WARNING:tensorflow:Reduce LR on plateau conditioned on metric `val_acc` which is not available. Available metrics are: loss,accuracy,val_loss,val_accuracy,lr\n",
            "WARNING:tensorflow:Can save best model only with val_acc available, skipping.\n",
            "9/9 [==============================] - 4s 449ms/step - loss: 0.1827 - accuracy: 0.9132 - val_loss: 1.9515 - val_accuracy: 0.6667\n",
            "Epoch 9/10\n",
            "9/9 [==============================] - ETA: 0s - loss: 0.0438 - accuracy: 0.9931WARNING:tensorflow:Reduce LR on plateau conditioned on metric `val_acc` which is not available. Available metrics are: loss,accuracy,val_loss,val_accuracy,lr\n",
            "WARNING:tensorflow:Can save best model only with val_acc available, skipping.\n",
            "9/9 [==============================] - 4s 444ms/step - loss: 0.0438 - accuracy: 0.9931 - val_loss: 2.0180 - val_accuracy: 0.6528\n",
            "Epoch 10/10\n",
            "9/9 [==============================] - ETA: 0s - loss: 0.0822 - accuracy: 0.9757WARNING:tensorflow:Reduce LR on plateau conditioned on metric `val_acc` which is not available. Available metrics are: loss,accuracy,val_loss,val_accuracy,lr\n",
            "WARNING:tensorflow:Can save best model only with val_acc available, skipping.\n",
            "9/9 [==============================] - 4s 444ms/step - loss: 0.0822 - accuracy: 0.9757 - val_loss: 2.0842 - val_accuracy: 0.6389\n"
          ],
          "name": "stdout"
        }
      ]
    },
    {
      "cell_type": "code",
      "metadata": {
        "id": "DxQmOPVsuQHW",
        "outputId": "1e0fa209-6043-4955-8294-2569d975ab4c",
        "colab": {
          "base_uri": "https://localhost:8080/",
          "height": 382
        }
      },
      "source": [
        "Y_pred = model.predict(X_test)\n",
        "from sklearn.metrics import confusion_matrix\n",
        "\n",
        "def plot_confusion_matrix(cm, classes,\n",
        "                          normalize=False,\n",
        "                          title='Confusion matrix',\n",
        "                          cmap=plt.cm.Blues):\n",
        "    \"\"\"\n",
        "    This function prints and plots the confusion matrix.\n",
        "    Normalization can be applied by setting `normalize=True`.\n",
        "    \"\"\"\n",
        "    if normalize:\n",
        "        cm = cm.astype('float') / cm.sum(axis=1)[:, np.newaxis]\n",
        "        print(\"Normalized confusion matrix\")\n",
        "    else:\n",
        "        print('Confusion matrix, without normalization')\n",
        "\n",
        "    print(cm)\n",
        "\n",
        "    plt.imshow(cm, interpolation='nearest', cmap=cmap)\n",
        "    plt.title(title)\n",
        "    plt.colorbar()\n",
        "    tick_marks = np.arange(len(classes))\n",
        "    plt.xticks(tick_marks, classes, rotation=55)\n",
        "    plt.yticks(tick_marks, classes)\n",
        "\n",
        "    fmt = '.2f' if normalize else 'd'\n",
        "    thresh = cm.max() / 2.\n",
        "    for i, j in itertools.product(range(cm.shape[0]), range(cm.shape[1])):\n",
        "        plt.text(j, i, format(cm[i, j], fmt),\n",
        "                 horizontalalignment=\"center\",\n",
        "                 color=\"white\" if cm[i, j] > thresh else \"black\")\n",
        "\n",
        "    plt.ylabel('True label')\n",
        "    plt.xlabel('Predicted label')\n",
        "    plt.tight_layout()\n",
        "\n",
        "cm = confusion_matrix(np.argmax(Y_test, axis=1), np.argmax(Y_pred, axis=1))\n",
        "\n",
        "cm_plot_label =['Benign', 'InSitu', 'Invasive', 'Normal']\n",
        "plot_confusion_matrix(cm, cm_plot_label, title ='NasNet Confusion Matrix')"
      ],
      "execution_count": 50,
      "outputs": [
        {
          "output_type": "stream",
          "text": [
            "Confusion matrix, without normalization\n",
            "[[8 2 0 0]\n",
            " [0 9 0 1]\n",
            " [0 6 4 0]\n",
            " [1 1 0 8]]\n"
          ],
          "name": "stdout"
        },
        {
          "output_type": "display_data",
          "data": {
            "image/png": "[encoded data removed]",
            "text/plain": [
              "<Figure size 432x288 with 2 Axes>"
            ]
          },
          "metadata": {
            "tags": [],
            "needs_background": "light"
          }
        }
      ]
    },
    {
      "cell_type": "code",
      "metadata": {
        "id": "_i2rR14DuQKX",
        "outputId": "bcf20e64-fef6-4c33-b04d-74efc1344ed9",
        "colab": {
          "base_uri": "https://localhost:8080/"
        }
      },
      "source": [
        "pred=model.predict(X_test)\n",
        "Y_pred = np.argmax(pred, 1)\n",
        "y_test=np.argmax(Y_test,1)\n",
        "from sklearn.metrics import classification_report, confusion_matrix\n",
        "print('Classification Report')\n",
        "target_names = ['Benign', 'InSitu', 'Invasive', 'Normal']\n",
        "print(classification_report(y_test, Y_pred, target_names=target_names))"
      ],
      "execution_count": 51,
      "outputs": [
        {
          "output_type": "stream",
          "text": [
            "Classification Report\n",
            "              precision    recall  f1-score   support\n",
            "\n",
            "      Benign       0.89      0.80      0.84        10\n",
            "      InSitu       0.50      0.90      0.64        10\n",
            "    Invasive       1.00      0.40      0.57        10\n",
            "      Normal       0.89      0.80      0.84        10\n",
            "\n",
            "    accuracy                           0.73        40\n",
            "   macro avg       0.82      0.73      0.72        40\n",
            "weighted avg       0.82      0.72      0.72        40\n",
            "\n"
          ],
          "name": "stdout"
        }
      ]
    },
    {
      "cell_type": "code",
      "metadata": {
        "id": "uOrOZlzodCYh",
        "outputId": "d37549ae-1736-456b-d8dd-ac8248a2d465",
        "colab": {
          "base_uri": "https://localhost:8080/",
          "height": 308
        }
      },
      "source": [
        "f, (ax1, ax2) = plt.subplots(1, 2, figsize=(12, 4))\n",
        "t = f.suptitle('NasNet Model Performance', fontsize=12)\n",
        "f.subplots_adjust(top=0.85, wspace=0.3)\n",
        "\n",
        "epoch_list = list(range(1,201))\n",
        "ax1.plot(epoch_list, history.history['accuracy'], label='Train Accuracy')\n",
        "ax1.plot(epoch_list, history.history['val_accuracy'], label='Validation Accuracy')\n",
        "ax1.grid()\n",
        "ax1.set_xticks(np.arange(1, 201, 15))\n",
        "ax1.set_ylabel('Accuracy Value')\n",
        "ax1.set_xlabel('Epoch')\n",
        "ax1.set_title('Accuracy')\n",
        "l1 = ax1.legend(loc=\"best\")\n",
        "\n",
        "ax2.plot(epoch_list, history.history['loss'], label='Train Loss')\n",
        "ax2.plot(epoch_list, history.history['val_loss'], label='Validation Loss')\n",
        "ax2.grid()\n",
        "ax2.set_xticks(np.arange(1, 201, 15))\n",
        "ax2.set_ylabel('Loss Value')\n",
        "ax2.set_xlabel('Epoch')\n",
        "ax2.set_title('Loss')\n",
        "l2 = ax2.legend(loc=\"best\")"
      ],
      "execution_count": 42,
      "outputs": [
        {
          "output_type": "display_data",
          "data": {
            "image/png": "[encoded data removed]",
            "text/plain": [
              "<Figure size 864x288 with 2 Axes>"
            ]
          },
          "metadata": {
            "tags": [],
            "needs_background": "light"
          }
        }
      ]
    },
    {
      "cell_type": "code",
      "metadata": {
        "id": "fICOSmWldCbW",
        "outputId": "5fb25067-dfb0-4b3d-b272-3354453ec369",
        "colab": {
          "base_uri": "https://localhost:8080/"
        }
      },
      "source": [
        "pred=model.predict(X_test)\n",
        "Y_pred = np.argmax(pred, 1)\n",
        "Y_test=np.argmax(Y_test,1)\n",
        "import numpy as np\n",
        "from sklearn import metrics\n",
        "fpr, tpr, thresholds = metrics.roc_curve(Y_test, Y_pred, pos_label=2)\n",
        "auc=metrics.auc(fpr, tpr)\n",
        "auc\n"
      ],
      "execution_count": 52,
      "outputs": [
        {
          "output_type": "execute_result",
          "data": {
            "text/plain": [
              "0.5800000000000001"
            ]
          },
          "metadata": {
            "tags": []
          },
          "execution_count": 52
        }
      ]
    },
    {
      "cell_type": "code",
      "metadata": {
        "id": "k6XcYJA_zacy",
        "outputId": "efabfee6-6286-4bc6-bce7-0bbcec0ed41f",
        "colab": {
          "base_uri": "https://localhost:8080/",
          "height": 295
        }
      },
      "source": [
        "plt.plot([0, 1], [0, 1], 'r--')\n",
        "plt.plot(fpr, tpr, label='AUC = {:.3f}'.format(auc))\n",
        "plt.xlabel('False positive rate')\n",
        "plt.ylabel('True positive rate')\n",
        "plt.title('ROC curve')\n",
        "plt.legend(loc='best')\n",
        "plt.show()\n",
        "#plt.savefig(ROC_PLOT_FILE, bbox_inches='tight')\n",
        "plt.close()"
      ],
      "execution_count": 53,
      "outputs": [
        {
          "output_type": "display_data",
          "data": {
            "image/png": "[encoded data removed]",
            "text/plain": [
              "<Figure size 432x288 with 1 Axes>"
            ]
          },
          "metadata": {
            "tags": [],
            "needs_background": "light"
          }
        }
      ]
    },
    {
      "cell_type": "code",
      "metadata": {
        "id": "PnxkXx5yzeNf"
      },
      "source": [
        ""
      ],
      "execution_count": null,
      "outputs": []
    }
  ]
}